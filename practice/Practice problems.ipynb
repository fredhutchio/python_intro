{
 "cells": [
  {
   "cell_type": "markdown",
   "metadata": {},
   "source": [
    "# Introduction to Python practice problems\n",
    "\n",
    "Solutions to these problems can be found in the `solutions` directory."
   ]
  },
  {
   "cell_type": "markdown",
   "metadata": {},
   "source": [
    "## Set up\n",
    "\n",
    "Before beginning the practice problems, set up your environment by running the next 2 code cells."
   ]
  },
  {
   "cell_type": "code",
   "execution_count": 4,
   "metadata": {},
   "outputs": [],
   "source": [
    "# Import libraries\n",
    "import os\n",
    "import urllib.request\n",
    "import pandas as pd\n",
    "import plotnine as p9\n",
    "%matplotlib inline\n",
    "import warnings\n",
    "import matplotlib.pyplot as plt"
   ]
  },
  {
   "cell_type": "markdown",
   "metadata": {},
   "source": [
    "Now we need to download the data. First, make a directory to save your data in called `data`. Then, download the data to that directory.\n",
    "\n",
    "You can view the dataset we will be working with [here](https://raw.githubusercontent.com/fredhutchio/R_intro/master/extra/clinical.csv)."
   ]
  },
  {
   "cell_type": "code",
   "execution_count": 17,
   "metadata": {},
   "outputs": [
    {
     "data": {
      "text/plain": [
       "('../extra/data/clinical.csv', <http.client.HTTPMessage at 0x7ffae7b19b50>)"
      ]
     },
     "execution_count": 17,
     "metadata": {},
     "output_type": "execute_result"
    }
   ],
   "source": [
    "# make directory\n",
    "# FIXME-1: Need to do some thinking about where we assume students are doing this work in the context of the course.\n",
    "os.mkdir(\"../extra/data\")\n",
    "# pull data to specified directory\n",
    "# FIXME-2: Adjust where to store data based on FIXME-1\n",
    "urllib.request.urlretrieve(\"https://raw.githubusercontent.com/fredhutchio/R_intro/master/extra/clinical.csv\", \"../extra/data/clinical.csv\")"
   ]
  },
  {
   "cell_type": "markdown",
   "metadata": {},
   "source": [
    "Bring data into python environment as the variable `clinical`"
   ]
  },
  {
   "cell_type": "code",
   "execution_count": 19,
   "metadata": {},
   "outputs": [],
   "source": [
    "clinical = pd.read_csv(\"data/clinical.csv\")"
   ]
  },
  {
   "cell_type": "markdown",
   "metadata": {},
   "source": [
    "#### Problem 1\n",
    "Using `iloc` or `loc`, print out the first five rows of `clinical` with only the following columns:  \n",
    "- `primary_diagnosis`\n",
    "- `tumor_stage`\n",
    "- `age_at_diagnosis`\n",
    "- `vital_status`\n",
    "- `gender`\n",
    "- `disease`\n",
    "\n",
    "#### Problem 2\n",
    "Print out a subset of the data where all patients are alive and of Hispanic or Latino ethnicity.\n",
    "Save this output as `clinical_subset`.\n",
    "\n",
    "**Tips:**  \n",
    "- Use `clinical_df.head()` to display the first few rows of the dataset and column names.\n",
    "- Use `clinical_df.VARIABLE.unique()` to see a list of all the unique values in a column.\n",
    "\n",
    "#### Problem 3\n",
    "Using the data in `clinical_subset`, create a simple bar graph with the disease as the x-axis and frequency of patients from the `primary_diagnosis` column on the y-axis.  \n",
    "Use the `VARIABLE.plot()` method from Matplotlib for this problem. Label the title and axes appropriately."
   ]
  },
  {
   "cell_type": "code",
   "execution_count": null,
   "metadata": {},
   "outputs": [],
   "source": []
  }
 ],
 "metadata": {
  "kernelspec": {
   "display_name": "Python 3",
   "language": "python",
   "name": "python3"
  },
  "language_info": {
   "codemirror_mode": {
    "name": "ipython",
    "version": 3
   },
   "file_extension": ".py",
   "mimetype": "text/x-python",
   "name": "python",
   "nbconvert_exporter": "python",
   "pygments_lexer": "ipython3",
   "version": "3.7.6"
  }
 },
 "nbformat": 4,
 "nbformat_minor": 4
}
